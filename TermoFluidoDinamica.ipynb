{
 "cells": [
  {
   "attachments": {},
   "cell_type": "markdown",
   "id": "b9c8dce2",
   "metadata": {},
   "source": [
    "### Autor: Paula Domínguez Morales (855681)\n",
    "### Fecha: 20 de Enero de 2025\n",
    "\n",
    "---\n",
    "\n",
    "<p style=\"text-align: center;\">\n",
    "    <img src=\"img/Uax_Logo.jpg\" alt=\"Logo UAX\" style=\"width: 40%;\">\n",
    "</p>\n",
    "\n",
    "---\n",
    "\n",
    "# Termofluidodinámica\n",
    "\n",
    "## Estudio de una Caldera para Oxicombustión de Metano en Plantas de Cogeneración\n",
    "\n",
    "---\n",
    "\n",
    "### Introducción\n",
    "\n",
    "Este notebook documenta la resolución de los requisitos establecidos para evaluar el diseño y el funcionamiento de una caldera basada en oxicombustión de metano. Este análisis abarca desde las condiciones iniciales de arranque hasta los modos estacionarios de operación. También se explorarán aspectos clave como la eficiencia térmica, la generación de contaminantes y los posibles ajustes en el diseño para optimizar su rendimiento.\n",
    "\n",
    "El enunciado completo, con los detalles técnicos y los parámetros necesarios, se encuentra en el archivo adjunto dentro de la misma carpeta que este notebook. A continuación, se presenta un esquema de los puntos principales a resolver:\n",
    "\n",
    "---\n",
    "\n",
    "### Modelo de Arranque:\n",
    "1. **Cálculo de la temperatura teórica del quemador** para diferentes dosados (φ) hasta alcanzar el régimen estequiométrico.\n",
    "2. **Determinación de posibles cantidades de metano sin quemar** durante el arranque.\n",
    "3. **Verificación de las condiciones necesarias para la ignición espontánea**, considerando alternativas para el arranque.\n",
    "4. **Cálculo del área del cambiador de calor** para cumplir con los criterios de temperatura en el mezclador.\n",
    "5. **Estimación del retraso máximo permitido** entre el inicio de la llama de premezcla y el cierre de la escotilla.\n",
    "\n",
    "---\n",
    "\n",
    "### Modos Estacionarios:\n",
    "1. **Análisis de las configuraciones de funcionamiento**: \n",
    "   - *Modo A*: Condensador activado.\n",
    "   - *Modo B*: Condensador desactivado.\n",
    "2. **Evaluación de la cantidad de CH₄ y H₂O en recirculación** para cada modo.\n",
    "3. **Cálculo de la cantidad de CO₂ recirculado** en cada configuración.\n",
    "4. **Estudio de la longitud de la llama**, considerando si se desarrollan estructuras de Burke-Schumann.\n",
    "5. **Impacto de los modos de funcionamiento en la operación**, incluyendo ventajas y desventajas entre las configuraciones A y B.\n",
    "\n",
    "---\n",
    "\n",
    "### Viabilidad y Limitaciones del Diseño:\n",
    "Se discutirá la viabilidad de implementar este diseño de caldera para oxicombustión, evaluando aspectos como:\n",
    "\n",
    "1. **La efectividad del condensador**.\n",
    "2. **La idoneidad del metano como combustible**.\n",
    "3. **La necesidad de redimensionar componentes clave**.\n",
    "4. **Beneficios y limitaciones de los modos de operación propuestos**.\n",
    "\n",
    "---\n",
    "\n",
    "<p style=\"text-align: center;\">\n",
    "    <img src=\"img/Caldera.jpg\" aldth: 70%;\">\n",
    "</div>\n",
    "\n",
    "---\n"
   ]
  },
  {
   "cell_type": "markdown",
   "id": "719c8dbf",
   "metadata": {},
   "source": [
    "## Solución"
   ]
  },
  {
   "cell_type": "markdown",
   "id": "e5b22b28",
   "metadata": {},
   "source": [
    "#### Carga de librerías"
   ]
  },
  {
   "cell_type": "code",
   "execution_count": null,
   "id": "352a2c30",
   "metadata": {},
   "outputs": [],
   "source": [
    "import math\n",
    "from matplotlib import pyplot as plt\n",
    "from pyturb.gas_models.semiperfect_ideal_gas import SemiperfectIdealGas\n",
    "\n",
    "aire = SemiperfectIdealGas('Air')\n",
    "Maire = aire.Mg*1e-3"
   ]
  },
  {
   "cell_type": "markdown",
   "id": "7f3b8ed0",
   "metadata": {},
   "source": [
    "#### Datos y propiedades de gas:"
   ]
  },
  {
   "cell_type": "code",
   "execution_count": 41,
   "id": "4cedf116",
   "metadata": {},
   "outputs": [],
   "source": [
    "MC = 12e-3 # kg/mol\n",
    "MN = 14e-3 # kg/mol\n",
    "MO = 16e-3 # kg/mol\n",
    "MH = 1e-3 # kg/mol\n",
    "\n",
    "MCO2 = MC + 2*MO\n",
    "MH2O = 2*MH + MO\n",
    "MCH4 = MC + 4*MH\n",
    "MO2 = 2*MO"
   ]
  },
  {
   "cell_type": "markdown",
   "id": "04a497dc",
   "metadata": {},
   "source": [
    "#### Condiciones iniciales y de contorno"
   ]
  },
  {
   "cell_type": "code",
   "execution_count": 4,
   "id": "f94e0577",
   "metadata": {},
   "outputs": [],
   "source": [
    "Tamb = 278.93 #K\n",
    "pamb = 101325 #Pa\n",
    "#V = 0.45 #m^3\n",
    "#Tmed = 750 #K\n",
    "Rg = 8.314 #J/K mol"
   ]
  },
  {
   "cell_type": "markdown",
   "id": "8fa4d342",
   "metadata": {},
   "source": [
    "#### Cinética química"
   ]
  },
  {
   "cell_type": "code",
   "execution_count": 5,
   "id": "ec54de08",
   "metadata": {},
   "outputs": [],
   "source": [
    "A0 = 6e9 #(mol/cm3/s)**)(1-a-b)\n",
    "a = -0.3\n",
    "b = 1.3\n",
    "Ea = 30 # kcal/mol\n",
    "Ta = Ea*4184 / aire.Ru"
   ]
  },
  {
   "cell_type": "markdown",
   "id": "79c25108",
   "metadata": {},
   "source": [
    "#### Combustible: Metano"
   ]
  },
  {
   "cell_type": "code",
   "execution_count": 6,
   "id": "8b993699",
   "metadata": {},
   "outputs": [],
   "source": [
    "ratio_equiv = 0.25\n",
    "LHV_metano = 50.0205e6 #J/kg\n",
    "HF_metano = 891e3 #J/mol\n",
    "alpha = 1\n",
    "beta = 4\n",
    "gamma = 0"
   ]
  },
  {
   "cell_type": "markdown",
   "id": "e1ce6809",
   "metadata": {},
   "source": [
    "#### Datos Caldera"
   ]
  },
  {
   "cell_type": "code",
   "execution_count": 44,
   "id": "3384f2e3",
   "metadata": {},
   "outputs": [],
   "source": [
    "Tmax = 2500 #K\n",
    "Da = 50\n",
    "Vcaldera = 3.6e-3 #m3\n",
    "Lcaldera = 0.2 #m\n",
    "Acaldera = Vcaldera / Lcaldera\n",
    "P0 = 101325 #Pa\n",
    "P0_atm = P0*9.869e-6\n",
    "Pmax = 10e6 #Pa\n",
    "T0 = 273+25 #K\n",
    "Q_cc1 = -27500 #W Calor disipado en el cambiador de calor\n",
    "Q_ch4_0 = 4500 #cc/s CAUDAL\n",
    "Q_co2_0 = Q_ch4_0 #CAUDAL\n",
    "Ecorriente = 100000 #J #Energía turbina\n",
    "h_caldera = 1 #W/(m2 K) #Factor de conveccion caldera\n",
    "h_cc = 35 #W/(m2 K) #Factor de conveccion cambiadores de calor"
   ]
  },
  {
   "cell_type": "code",
   "execution_count": 8,
   "id": "0ed07ed5",
   "metadata": {},
   "outputs": [],
   "source": [
    "def estequiometria_hc(alpha,beta,gamma):\n",
    "    \"\"\"\n",
    "    Calcula la estequiometría de una alcano asumiendo CnH2n+2Om donde n es el número de carbonos y m el de oxígenos presentes en el hidrocarburo.\n",
    "    nFuel es la cantidad (mol) de combustible empleado. Si no se especifica se toma 1mol.\n",
    "    \"\"\"\n",
    "    alfa = nCarb\n",
    "    beta = nCarb*2+2\n",
    "    gamma = nOxig\n",
    "    \n",
    "    nO2 = (alfa+beta/4-gamma/2)\n",
    "    #nN2 = nO2 * 79/21 \n",
    "    nCO2 = alfa\n",
    "    nH2O = beta/2\n",
    "    \n",
    "    return nO2, nN2, nCO2, nH2O"
   ]
  },
  {
   "cell_type": "code",
   "execution_count": 9,
   "id": "6d4bcc32",
   "metadata": {},
   "outputs": [],
   "source": [
    "def dosado_estequiometrico(alpha, beta, gamma):\n",
    "    \"\"\"\n",
    "    Calcula el dosado estequiométrico de un HC.\n",
    "    \"\"\"\n",
    "\n",
    "    nO2 = (alfa+beta/4-gamma/2)*nFuel\n",
    "    #nN2 = nO2 * 79/21 \n",
    "    nCO2 = alfa*nFuel\n",
    "    nH2O = beta/2\n",
    "    \n",
    "    Mfuel = alfa*MC + beta*MH #kg/mol\n",
    "    MComburente = nO2*(MO2)\n",
    "    \n",
    "    fs = Mfuel / MComburente\n",
    "    \n",
    "    return fs"
   ]
  },
  {
   "cell_type": "markdown",
   "id": "b775b4a4",
   "metadata": {},
   "source": [
    "## Cálculos iniciales:\n",
    "\n",
    "La situación describe una oxicombustión de metano, por lo que el primer paso es determinar la mezcla estequiométrica de los gases involucrados. "
   ]
  },
  {
   "cell_type": "markdown",
   "id": "fb575726",
   "metadata": {},
   "source": [
    "#### Parte estequiométrica de la reacción"
   ]
  },
  {
   "cell_type": "code",
   "execution_count": null,
   "id": "95a06596",
   "metadata": {},
   "outputs": [],
   "source": [
    "nO2_s, nN2_s, nCO2_s, nH2O_s = estequiometria_hc(1,4,0)"
   ]
  },
  {
   "cell_type": "code",
   "execution_count": null,
   "id": "442d50d6",
   "metadata": {
    "scrolled": true
   },
   "outputs": [],
   "source": [
    "print('Condición estequiométrica:')\n",
    "print('nO2_s={:6.3f}mol;  nN2_s={:6.3f}mol;  nCO2_s={:6.3f}mol;  nH2O_s={:6.3f}mol'.format(nO2_s, nN2_s, nCO2_s, nH2O_s))"
   ]
  },
  {
   "cell_type": "markdown",
   "id": "5b88ca1e-a37d-4c30-bb8a-648fd6ccf7cd",
   "metadata": {},
   "source": [
    "#### Condiciones de dosado estequiométrico"
   ]
  },
  {
   "cell_type": "markdown",
   "id": "a3eacf85-6d9f-4bdc-af73-e8e7784da754",
   "metadata": {},
   "source": [
    "f = dosado_estequiometrico(1,4,0)"
   ]
  },
  {
   "cell_type": "markdown",
   "id": "6f81d1f3-a52b-46ec-b299-9ba004336d58",
   "metadata": {},
   "source": [
    "print('Dosado estequiométrico:', f)"
   ]
  },
  {
   "cell_type": "markdown",
   "id": "0a96cd9d-d50c-4f5c-a1ad-54b257a64696",
   "metadata": {},
   "source": [
    "## Arranque"
   ]
  },
  {
   "cell_type": "code",
   "execution_count": 13,
   "id": "7d6fd6b7",
   "metadata": {},
   "outputs": [],
   "source": [
    "#Teoría 1:\n",
    "\n",
    "phi_pobre = np.linspace(0.1, 1, 10)\n",
    "print ('phi mezcla pobre=', phi_pobre)\n",
    "\n",
    "#para mezcla pobre\n",
    "mcomb_pobre=mcomb_stq\n",
    "Qneto = 0.6 * (mcomb_pobre * LHV_ch4)\n",
    "\n",
    "No2_pobre_p = No2_stq/phi_pobre - alpha - beta/4\n",
    "\n",
    "Tad_pobre = ( T0 + (Qneto)/(o2.cp_molar(T0)*No2_pobre_p+co2.cp_molar(T0)*Nco2_stq+h2o.cp_molar(T0)*Nh2o_stq))\n",
    "\n",
    "print ('Barrido de temperaturas en mezcla pobre', Tad_pobre)"
   ]
  },
  {
   "cell_type": "code",
   "execution_count": 13,
   "id": "2a48c9ce-ae97-413f-81ae-ce64ab793258",
   "metadata": {},
   "outputs": [],
   "source": [
    "# teroía 2: mas aceptable\n",
    "\n",
    "phi_pobre = np.linspace(0.1, 1, 10)\n",
    "print ('phi mezcla pobre=', phi_pobre)\n",
    "\n",
    "Nch4_pobre = phi_pobre*Nch4_stq\n",
    "mcomb_pobre = Nch4_pobre * MCH4\n",
    "\n",
    "Qneto = 0.6 * ((mcomb_pobre * LHV_ch4))\n",
    "No2_stq_pobre = Nch4_pobre*(alpha+beta/4)\n",
    "No2_pobre_p = No2_stq - No2_stq_pobre\n",
    "Tad_pobre = ( T0 + (Qneto)/(o2.cp_molar(T0)*No2_pobre_p+co2.cp_molar(T0)*Nco2_stq+h2o.cp_molar(T0)*Nh2o_stq))\n",
    "print (Tad_pobre)"
   ]
  },
  {
   "cell_type": "code",
   "execution_count": null,
   "id": "42c4e5ef",
   "metadata": {},
   "outputs": [],
   "source": [
    "#para mezcla rica\n",
    "\n",
    "phi_rica = np.linspace(1.1, 2, 10)\n",
    "print ('phi mezcla rica=', phi_rica)\n",
    "\n",
    "Nch4_rica = phi_rica*f_stq*ma_stq/mcomb_stq\n",
    "Nch4_rica_p = Nch4_rica - Nch4_stq\n",
    "Qneto = (0.6 * (mcomb_stq * LHV_ch4))\n",
    "Tad_rica = T0 + Qneto/(ch4.cp_molar(T0)*Nch4_rica_p+co2.cp_molar(T0)*Nco2_stq+h2o.cp_molar(T0)*Nh2o_stq)\n",
    "print( 'Barrido de temperaturas en mezcla rica ', Tad_rica)"
   ]
  },
  {
   "cell_type": "code",
   "execution_count": null,
   "id": "6369ff90-ab43-4cfc-ad9a-8f6eee2edec6",
   "metadata": {},
   "outputs": [],
   "source": [
    "phi=np.concatenate((phi_pobre, phi_rica), axis=0)\n",
    "Tad = np.concatenate((Tad_pobre, Tad_rica), axis=0)\n",
    "print (phi)\n",
    "print (Tad)\n",
    "plt.plot(phi, Tad, color=\"green\")\n",
    "plt.title ( \"t\")\n",
    "plt.xlabel(\"phi\")\n",
    "plt.ylabel(\"tad\")\n",
    "\n",
    "plt.annotate(str(Tad[15]), xy=(phi[15], Tad[15]))\n",
    "plt.show() "
   ]
  },
  {
   "cell_type": "code",
   "execution_count": null,
   "id": "3a4abab5-e025-43fd-9d66-a64db738a249",
   "metadata": {},
   "outputs": [],
   "source": [
    "# APArtado 2: calculo de los moles sobrantes de CH4\n",
    "\n",
    "#FACCIONES MOLARES\n",
    "Xch4_0 = 0.14470588\n",
    "Xco2_0 = 0.2647059\n",
    "Xh2o_0 = 0.5294117\n",
    "Xo2_0 = 1 - (Xch4_0+Xco2_0+Xh2o_0)\n",
    "phi_0 = 1.4\n",
    "f_0 = phi_0*f_stq\n",
    "print ('dosado (phi=1.4)', f_0)\n",
    "\n",
    "\n",
    "N_total_stq = P0*Vc/(Rg*T0)\n",
    "\n",
    "N_total_ch4_stq = N_total_stq / (1+(alpha + beta/4))\n",
    "\n",
    "N_total_o2_stq = N_total_stq - N_total_ch4_stq\n",
    "\n",
    "\n",
    "# esto es la mezcla estequiométrica para la cantidad REAL de moles en la caldera\n",
    "\n",
    "\n",
    "# con estas formulas tenemos el sistema de eq entre suma total de moles, y relación de moles con el dosado 0.35\n",
    "Nr_o2 = N_total_stq/(f_0*(MO2/(MCH4))+1)\n",
    "Nr_ch4 = f_0 * (MO2/(MCH4))*Nr_o2\n",
    "\n",
    "NrT = Nr_ch4 + Nr_o2\n",
    "\n",
    "#Moles en el escape\n",
    "\n",
    "NpT= NrT\n",
    "Np_ch4 = NpT * Xch4_0\n",
    "Np_co2 = Xco2_0*NpT\n",
    "Np_h2o = Xh2o_0*NpT\n",
    "Np_o2 = Xo2_0*NpT\n",
    "\n",
    "NpT = Np_ch4+Np_co2+Np_h2o+Np_o2\n",
    "print(f'Moles Totales en los reactantes = %-6.4f \\nMoles Totales en los productos = %-6.4f'% (  NpT, NpT))"
   ]
  },
  {
   "cell_type": "code",
   "execution_count": null,
   "id": "fbae8afb-d2eb-4011-a7f3-e8e15f83f237",
   "metadata": {},
   "outputs": [],
   "source": [
    "print (f'Moles de CH4 reactantes = %-6.4f' %(Nr_ch4))\n",
    "print (f'Moles de O2 reactantes = %-6.4f' %(Nr_o2))\n",
    "print (f'Moles de CO2 productos = %-6.4f' %(Np_co2))\n",
    "print (f'Moles de H2O productos = %-6.4f' %(Np_h2o))\n",
    "print (f'Moles de CH4 productos = %-6.4f' %(Np_ch4)) \n",
    "print (f'Moles de O2 productos = %-6.4f' %(Np_o2))   \n",
    "\n",
    "Xr_ch4 = Nr_ch4/NrT\n",
    "print (f'Fracción molar CH4 reactante =%-6.4f'%Xr_ch4)\n",
    "Xr_o2 = Nr_o2/NrT\n",
    "print (f'Fracción molar O2 reactante =%-6.4f'%Xr_o2)"
   ]
  },
  {
   "cell_type": "code",
   "execution_count": null,
   "id": "64ec1164-85e5-41b6-aa61-eb6bc706d556",
   "metadata": {},
   "outputs": [],
   "source": [
    "# Cuenta de moles realmente quemados\n",
    "Nq_o2 = Nr_o2 - Np_o2\n",
    "print (f'Moles quemados de O2 = %-6.4f'%Nq_o2)\n",
    "Nq_ch4 = Nr_ch4 - Np_ch4\n",
    "Nq_r = Nq_ch4 + Nq_o2\n",
    "print (f'Moles quemados de CH4 = %-6.4f'%Nq_ch4)\n",
    "print (f'Moles totales quemados = %-6.4f'%Nq_r)\n",
    "\n",
    "\n",
    "# Fracciones molares de lo quemado:\n",
    "X_ch4_q = Nq_ch4/Nq_r\n",
    "X_o2_q = Nq_o2/Nq_r\n",
    "print (f'Fracción molar CH4 quemado = %-6.4f'%X_ch4_q)\n",
    "print (f'Fracción molar de O2 quemado = %-6.4f'%X_o2_q)"
   ]
  },
  {
   "cell_type": "code",
   "execution_count": null,
   "id": "8ad8b224-dcc8-4ec6-b4d5-fe6acd4b77fd",
   "metadata": {},
   "outputs": [],
   "source": [
    "Moles quemados de O2 = 0.0776\n",
    "Moles quemados de CH4 = 0.0393\n",
    "Moles totales quemados = 0.1169\n",
    "Fracción molar CH4 quemado = 0.3363\n",
    "Fracción molar de O2 quemado = 0.6637"
   ]
  },
  {
   "cell_type": "code",
   "execution_count": null,
   "id": "d516bdb5-ecc7-47ef-b4f3-ef2ffb3c214d",
   "metadata": {},
   "outputs": [],
   "source": [
    "# Comprobar que la temperatura y la presion del recinto del quemador\n",
    "# son suficientes para que se genere una llama de difusion sin necesidad\n",
    "# de pilotar la ignici´on. En caso de no ser suficiente, calcular la presi´on\n",
    "# de la caldera inicial (presi´on de metano y ox´ıgeno) que deber´ıa haber\n",
    "# para cumplir con la condici´on de encendido espont´aneo. Para estimar\n",
    "# la condici´on de autoignici´on se puede asumir que la temperatura de la\n",
    "# pared durante la operaci´on de la caldera es igual a la temperatura de\n",
    "# pared calculada durante el arranque. ¿Se podr´ıa proporcional un ratio\n",
    "# de quemado inicial diferente a ϕ = 1,4 y que permita igualmente iniciar\n",
    "# la mezcla en modo llama de difusi´on?"
   ]
  },
  {
   "cell_type": "code",
   "execution_count": null,
   "id": "97a700b5-0bf2-43a2-a35a-6fc952b27030",
   "metadata": {},
   "outputs": [],
   "source": [
    "# apartado 3: primera estimación\n",
    "EA = 30e3*4.184\n",
    "Ta = EA / Rg\n",
    "Qc_q = Nq_ch4 * Hc_ch4\n",
    "Qneto_q = Qc_q * 0.6\n",
    "# print ('Qc = ', Qc_q)\n",
    "\n",
    "Qdisip_q = Qc_q * 0.4\n",
    "# print ('Qdisip =', Qdisip_q)\n",
    "\n",
    "Tpared_q =T0+(3.6e-4 * (Qdisip_q/(h * Ac)))\n",
    "# print('Tpared =', Tpared_q)\n",
    "\n",
    "Tc_q = (Ta - np.sqrt(Ta**2-4*Ta*Tpared_q))/2\n",
    "# print ('Tc =', Tc_q)\n",
    "\n",
    "# por comprobar que tenga sentido vamos a calcular la Tad\n",
    "Tad_q = Tpared_q + Qneto_q/(ch4.cp_molar(Tpared_q)*Np_ch4+co2.cp_molar(Tpared_q)*Np_co2+h2o.cp_molar(Tpared_q)*Np_h2o+o2.cp_molar(Tpared_q)*Np_o2)\n",
    "\n",
    "# print(Tad_q) #Muy alta pero concuerda con apartado 1"
   ]
  },
  {
   "cell_type": "code",
   "execution_count": null,
   "id": "bc31627a-06da-414a-801b-afb91de82fb7",
   "metadata": {},
   "outputs": [],
   "source": [
    "a = -0.3\n",
    "b = 1.3\n",
    "A0 = 8.3e5\n",
    "\n",
    "# Tc_q = 642\n",
    "AA = Rg * Tc_q\n",
    "BB = EA / ((a+b) * Rg * Tc_q)\n",
    "CC = (h * Ac / Vc) * (Rg * Tc_q**2 / EA)\n",
    "DD = Qneto_q * A0 * (X_ch4_q**a) * (X_o2_q**b)\n",
    "EE = (1/(a+b))\n",
    "\n",
    "Pc_q = AA * np.e**BB * (CC/DD)**EE\n",
    "\n",
    "print ('Presion de comb',f' (Tc=%6.2f'%(Tc_q),f'K) = %-10.3ef'% Pc_q, 'Pa')\n",
    "P_caldera = NrT*Rg*Tad_q/(Vc)\n",
    "print (f'Presion de la caldera = %-10.3e'%P_caldera)\n",
    "print ('Hay AutoComb? P_caldera>Pc_q : ', P_caldera>Pc_q )"
   ]
  },
  {
   "cell_type": "code",
   "execution_count": null,
   "id": "ba17b3d2-57c6-4069-86ed-98c3a9379dea",
   "metadata": {},
   "outputs": [],
   "source": [
    "# Apartado 3, segunda espimación cambiando el dosado del apartado 2\n",
    "\n",
    "#FACCIONES MOLARES\n",
    "Xch4_0 = 0.14470588\n",
    "Xco2_0 = 0.2647059\n",
    "Xh2o_0 = 0.5294117\n",
    "Xo2_0 = 1 - (Xch4_0+Xco2_0+Xh2o_0)\n",
    "phi_0 = np.linspace(1.1, 2, 20)\n",
    "f_0 = phi_0*f_stq\n",
    "# \n",
    "# print ('phi = ', phi_0)\n",
    "\n",
    "\n",
    "N_total_stq = P0*Vc/(Rg*T0)\n",
    "\n",
    "N_total_ch4_stq = N_total_stq / (1+(alpha + beta/4))\n",
    "\n",
    "N_total_o2_stq = N_total_stq - N_total_ch4_stq\n",
    "\n",
    "\n",
    "# esto es la mezcla estequiométrica para la cantidad REAL de moles en la caldera\n",
    "\n",
    "\n",
    "# con estas formulas tenemos el sistema de eq entre suma total de moles, y relación de moles con el dosado 0.35\n",
    "Nr_o2 = N_total_stq/(f_0*(MO2/(MCH4))+1)\n",
    "Nr_ch4 = f_0 * (MO2/(MCH4))*Nr_o2\n",
    "\n",
    "NrT = Nr_ch4 + Nr_o2\n",
    "Xr_o2 = Nr_o2/NrT\n",
    "Xr_ch4 = Nr_ch4/NrT\n",
    "#Moles en el escape\n",
    "\n",
    "NpT= NrT\n",
    "Np_ch4 = NpT * Xch4_0\n",
    "Np_co2 = Xco2_0*NpT\n",
    "Np_h2o = Xh2o_0*NpT\n",
    "Np_o2 = Xo2_0*NpT\n",
    "\n",
    "NpT = Np_ch4+Np_co2+Np_h2o+Np_o2\n",
    "# print(f'Moles Totales en los reactantes = %-6.4f \\nMoles Totales en los productos = %-6.4f'% (  NpT, NpT))\n",
    "\n",
    "# Cuenta de mles realmente quemados\n",
    "Nq_o2 = Nr_o2 - Np_o2\n",
    "Nq_ch4 = Nr_ch4 - Np_ch4\n",
    "Nq_r = Nq_ch4 + Nq_o2\n",
    "\n",
    "\n",
    "# Fracciones molares de lo quemado:\n",
    "X_ch4_q = Nq_ch4/Nq_r\n",
    "X_o2_q = Nq_o2/Nq_r\n",
    "\n",
    "\n",
    "\n",
    "EA = 30e3*4.184\n",
    "Ta = EA / Rg\n",
    "Qc_q = Nq_ch4 * Hc_ch4\n",
    "rend = 0.6\n",
    "Qneto_q = Qc_q * rend\n",
    "\n",
    "Qdisip_q = Qc_q * (1-rend)\n",
    "\n",
    "Tpared_q =T0+(3.6e-4 * (Qdisip_q/(h * Ac)))\n",
    "\n",
    "Tc_q = (Ta - np.sqrt(Ta**2-4*Ta*Tpared_q))/2\n",
    "\n",
    "# por comprobar que tenga sentido vamos a calcular la Tad\n",
    "Tad_q = Tpared_q + Qneto_q/(ch4.cp_molar(Tpared_q)*Np_ch4+co2.cp_molar(Tpared_q)*Np_co2+h2o.cp_molar(Tpared_q)*Np_h2o+o2.cp_molar(Tpared_q)*Np_o2)\n",
    "\n",
    "a = -0.3\n",
    "b = 1.3\n",
    "A0 = 8.3e5\n",
    "\n",
    "# Tc_q = 642\n",
    "AA = Rg * Tc_q\n",
    "BB = EA / ((a+b) * Rg * Tc_q)\n",
    "CC = (h * Ac / Vc) * (Rg * Tc_q**2 / EA)\n",
    "DD = Qneto_q * A0 * (X_ch4_q**a) * (X_o2_q**b)\n",
    "EE = (1/(a+b))\n",
    "\n",
    "Pc_q = AA * np.e**BB * (CC/DD)**EE\n",
    "P_caldera = NrT*Rg*Tad_q/(Vc)\n",
    "\n",
    "phi_1 = phi_0[9]\n",
    "Tad_1 = Tad_q[9]\n",
    "T_pared_1 = Tpared_q[9]\n",
    "Tc_1 = Tc_q[9]\n",
    "Pc_1 = Pc_q[9]\n",
    "P_caldera_1 = P_caldera[9]\n",
    "Nq_ch4_1 = Nq_ch4[9]\n",
    "Nq_o2_1 = Nq_o2[9]\n",
    "NqT_1 = Nq_r[9] \n",
    "Nr_ch4_1 = Nr_ch4[9]\n",
    "Nr_o2_1 = Nr_o2[9]\n",
    "NrT_1 = NrT[9] \n",
    "Xr_ch4_1 = Xr_ch4[9]\n",
    "Xr_o2_1 = Xr_o2[9]\n",
    "\n",
    "\n",
    "print (f'phi minima =%2.3f'% phi_1)\n",
    "print (f'Tad minima =%2.3f'%Tad_1 )\n",
    "print (f'Tc minima =%2.3f'%Tc_1)\n",
    "print (f'Pc minima =%1.3e'%Pc_1)\n",
    "print (f'P_caldera minima =%1.3e'%P_caldera_1)\n",
    "\n"
   ]
  },
  {
   "cell_type": "code",
   "execution_count": null,
   "id": "95a6d689-9097-4682-8cc9-46ef69b58ff8",
   "metadata": {},
   "outputs": [],
   "source": [
    "# Apartado 4\n",
    "# Calcular el ´area del cambiador de calor para que se cumpla el criterio\n",
    "# de temperaturas en el mezclador\n",
    "\n",
    "Acc = Qcc1/(hcc*(T_pared_1 - Tad_1))\n",
    "\n",
    "print (f'Area del Cambiador de Calor = %1.3f m2'%(Acc))"
   ]
  },
  {
   "cell_type": "code",
   "execution_count": null,
   "id": "cf41ce03-d844-4745-8e8f-3e436893d2c0",
   "metadata": {},
   "outputs": [],
   "source": [
    "# Apartado 5\n",
    "c0_ch4 = -9.1780e-3\n",
    "c1_ch4 = 1.5964e-4\n",
    "c2_ch4 = -3.4571e-8\n",
    "c3_ch4 = 2.0839e-12\n",
    "k_ch4 = c0_ch4 + c1_ch4*T0 + c2_ch4*T0**2 + c3_ch4*T0**3\n",
    "\n",
    "c0_o2 = 5.9101e-4\n",
    "c1_o2 = 1.0460e-4\n",
    "c2_o2 = -3.7985e-8\n",
    "c3_o2 = 7.372e-12\n",
    "k_o2 = c0_o2 + c1_o2*T0 + c2_o2*T0**2 + c3_o2*T0**3\n",
    "\n",
    "k_med = (k_ch4*Nr_ch4_1+k_o2*Nr_o2_1)/NrT_1\n",
    "rho = P0/(T0*287)\n",
    "cp_med =  ch4.cp_molar(T0)*(Xr_ch4_1/MCH4)+o2.cp_molar(T0)*(Xr_o2_1/MO2)\n",
    "alpha_ = k_med/(cp_med*rho)\n",
    "\n",
    "T_med = (Tad_1+T_pared_1)/2\n",
    "rf = A0 * np.exp(-EA/(1600*Rg)) * Xr_ch4_1**a * Xr_o2_1**b * (P0*0.001/(1600*Rg))**(a+b)\n",
    "tq = ((Xr_ch4_1*P0*0.001/(Rg*T0)))*0.001/rf\n",
    "\n",
    "Sl = np.sqrt((alpha_*(Tad_1-Tc_1))/(tq*(Tc_1-T0)))\n",
    "\n",
    "t = Lc/Sl\n",
    "\n",
    "print (f'Velocida de la reacción =%2.4f'%rf)\n",
    "print (f'Tiempo de reacción es =%2.4ef'%tq)\n",
    "print (f'Velocidad del frente de llama =%2.4f'%Sl)\n",
    "print (f'Tiempo para cerrar la valvula = %2.4f'%t)\n"
   ]
  },
  {
   "cell_type": "markdown",
   "id": "539d6853",
   "metadata": {},
   "source": [
    "#### Fracciones másicas y molares pedidas"
   ]
  },
  {
   "cell_type": "code",
   "execution_count": 15,
   "id": "27d9fbf7",
   "metadata": {},
   "outputs": [],
   "source": [
    "frac_mol_Fuel = nFuel/nreact\n",
    "frac_mol_O2 = nO2/nreact\n",
    "frac_mol_N2 = nN2/nreact\n",
    "\n",
    "mCO2 = nCO2*MCO2\n",
    "mH2O = nH2O*MH2O\n",
    "mN2 = nN2*(MN*2)\n",
    "mO2prod = nO2_prod*(MO*2)\n",
    "\n",
    "mprod = mCO2 + mH2O + mN2 + mO2prod\n",
    "\n",
    "frac_mas_CO2 = mCO2 / mprod\n",
    "frac_mas_H2O = mH2O / mprod\n",
    "frac_mas_N2 = mN2 / mprod\n",
    "frac_mas_O2prod = mO2prod / mprod"
   ]
  },
  {
   "cell_type": "code",
   "execution_count": null,
   "id": "a8cf8d9e",
   "metadata": {},
   "outputs": [],
   "source": [
    "print('Fracciones molares en reactantes:')\n",
    "print('frac_molar_Fuel: {:6.4f};  frac_molar_O2: {:6.4f};  frac_masica_N2: {:6.4f}'.format(frac_mol_Fuel, frac_mol_O2, frac_mol_N2))\n",
    "print('Suma fracciones: ', frac_mas_CO2+frac_mas_H2O+frac_mas_N2+frac_mas_O2prod)"
   ]
  },
  {
   "cell_type": "code",
   "execution_count": null,
   "id": "50f83da6",
   "metadata": {},
   "outputs": [],
   "source": [
    "print('Fracciones másicas en productos:')\n",
    "print('frac_masica_CO2: {:6.4f};  frac_masica_H2O: {:6.4f};  frac_masica_N2: {:6.4f};  frac_masica_O2: {:6.4f}'.format(frac_mas_CO2, frac_mas_H2O, frac_mas_N2, frac_mas_O2prod))\n",
    "print('Suma fracciones: ', frac_mas_CO2+frac_mas_H2O+frac_mas_N2+frac_mas_O2prod)\n",
    "frac_mas_CO2+frac_mas_H2O<10"
   ]
  },
  {
   "cell_type": "markdown",
   "id": "d5a6668f",
   "metadata": {},
   "source": [
    "#### Dosado real y estequiométrico"
   ]
  },
  {
   "cell_type": "code",
   "execution_count": 19,
   "id": "31ebe2a7",
   "metadata": {},
   "outputs": [],
   "source": [
    "frac_mas_hept = (0.7*Mhept)/(0.7*Mhept+0.3*Mpent)\n",
    "frac_mas_pent = (0.3*Mpent)/(0.7*Mhept+0.3*Mpent)"
   ]
  },
  {
   "cell_type": "code",
   "execution_count": null,
   "id": "95f46e5b",
   "metadata": {},
   "outputs": [],
   "source": [
    "fs = dosado_estequiometrico(7)*frac_mas_hept + dosado_estequiometrico(5)*frac_mas_pent\n",
    "f = ratio_equiv*fs\n",
    "print('f=',f)"
   ]
  },
  {
   "cell_type": "markdown",
   "id": "2d954ef6",
   "metadata": {},
   "source": [
    "#### Masa de productos asumida a aire"
   ]
  },
  {
   "cell_type": "code",
   "execution_count": 21,
   "id": "a5f18166",
   "metadata": {},
   "outputs": [],
   "source": [
    "maire = mprod\n",
    "naire = nprod"
   ]
  },
  {
   "cell_type": "markdown",
   "id": "e15ce0f7",
   "metadata": {},
   "source": [
    "## Apartado 2:\n",
    "\n",
    "Asumiendo que se tiene $1mol$ de combustible, calcule el calor de la combustión y la temperatura de llama. Para ello tome como temperatura promedio de la combustión 750K. Discuta la idoneidad de esta temperatura promedio."
   ]
  },
  {
   "cell_type": "markdown",
   "id": "a085b4a7",
   "metadata": {},
   "source": [
    "#### Poder calorífico de combustible"
   ]
  },
  {
   "cell_type": "code",
   "execution_count": 22,
   "id": "f49a9a14",
   "metadata": {},
   "outputs": [],
   "source": [
    "LHVfuel = LHV_heptano*frac_mas_hept + LHV_pentano*frac_mas_pent"
   ]
  },
  {
   "cell_type": "code",
   "execution_count": null,
   "id": "1792a671",
   "metadata": {},
   "outputs": [],
   "source": [
    "print('LHVfuel = {:6.3f}MJ/kg'.format(LHVfuel*1e-6))"
   ]
  },
  {
   "cell_type": "markdown",
   "id": "80ee66f3",
   "metadata": {},
   "source": [
    "#### Temperatura adiabática de llama iterada"
   ]
  },
  {
   "cell_type": "code",
   "execution_count": null,
   "id": "cba640ca",
   "metadata": {},
   "outputs": [],
   "source": [
    "sigue_iterando = True\n",
    "Tmed = Tamb\n",
    "iter_max = 100\n",
    "tolerancia = 1e-6\n",
    "niter = 0\n",
    "\n",
    "while sigue_iterando:\n",
    "    niter +=1\n",
    "    Tmed_ = Tmed\n",
    "    \n",
    "    deltaTad = f*LHVfuel / ( (1+f)*aire.cp(Tmed) )\n",
    "    \n",
    "    Tad = Tamb + deltaTad\n",
    "    Tmed = (Tad + Tamb)/2\n",
    "    \n",
    "    residuo = abs(Tmed-Tmed_)/Tmed_\n",
    "    \n",
    "    print('ii={};  Tmed={};  Tad={};  residuo={}'.format(niter, Tmed, Tad, residuo))\n",
    "    \n",
    "    if residuo<tolerancia:\n",
    "        print('Solución obtenida')\n",
    "        sigue_iterando = False\n",
    "    elif niter>iter_max:\n",
    "        print('Solución no convergida, iteraciones máximas excedidas')\n",
    "        sigue_iterando = False\n"
   ]
  },
  {
   "cell_type": "code",
   "execution_count": 25,
   "id": "a93b5d8b",
   "metadata": {},
   "outputs": [],
   "source": [
    "Tmed_ = 750 #K\n",
    "deltaTad_ = f*LHVfuel / ( (1+f)*aire.cp(Tmed_) )\n",
    "Tad_ = Tamb + deltaTad_\n",
    "Tmed_ = 0.5*(Tad_+Tamb)"
   ]
  },
  {
   "cell_type": "code",
   "execution_count": null,
   "id": "7e71e178",
   "metadata": {},
   "outputs": [],
   "source": [
    "print('Tad_={:7.1f}K'.format(Tad_))\n",
    "print('Tmed_={:7.1f}K'.format(Tmed_))"
   ]
  },
  {
   "cell_type": "markdown",
   "id": "c2894488",
   "metadata": {},
   "source": [
    "La temperatura media propuesta es suficiente para caracterizar la mezcla de productos."
   ]
  },
  {
   "cell_type": "markdown",
   "id": "6a7efa07",
   "metadata": {},
   "source": [
    "## Apartado 3\n",
    "\n",
    "Calcule el tiempo característico para quemar $1mol$ de mezcla de combustible dadas las condiciones de presión y temperatura del combustor."
   ]
  },
  {
   "cell_type": "code",
   "execution_count": 27,
   "id": "86dc2bf9",
   "metadata": {},
   "outputs": [],
   "source": [
    "concentracionReact = (pamb/aire.Ru/Tamb) # mol/m^3\n",
    "pre_exp = (A0*frac_mol_Fuel**a * frac_mol_O2**b * concentracionReact**(a+b))\n",
    "exp = math.exp(-Ta/Tamb)"
   ]
  },
  {
   "cell_type": "code",
   "execution_count": 28,
   "id": "f5249f49",
   "metadata": {},
   "outputs": [],
   "source": [
    "rf = pre_exp * exp\n",
    "concentracionFuel = (pamb/aire.Ru/Tamb * frac_mol_Fuel)*1e-6\n",
    "tau_q = concentracionFuel/rf"
   ]
  },
  {
   "cell_type": "code",
   "execution_count": null,
   "id": "79ffef91",
   "metadata": {
    "scrolled": true
   },
   "outputs": [],
   "source": [
    "print('rf={0:10.8f}mol/cm3/s'.format(rf))\n",
    "print('tau_q={0:6.4}ms'.format(tau_q*1e3))"
   ]
  },
  {
   "cell_type": "code",
   "execution_count": null,
   "id": "24b9b242",
   "metadata": {},
   "outputs": [],
   "source": [
    "concentracionFuel"
   ]
  },
  {
   "cell_type": "markdown",
   "id": "eb9165db",
   "metadata": {},
   "source": [
    "## Apartado 4\n",
    "\n",
    "Dado el resultado anterior discuta la idoneidad de la llama de premezcla para una turbina de gas. En caso de considerarla válida explique por qué, en caso contrario estudie el radio mínimo de inyección para tener una llama de difusión."
   ]
  },
  {
   "cell_type": "code",
   "execution_count": null,
   "id": "b291d94a",
   "metadata": {},
   "outputs": [],
   "source": [
    "nreact/(pamb/aire.Ru/Tamb)"
   ]
  },
  {
   "cell_type": "code",
   "execution_count": null,
   "id": "52afc988",
   "metadata": {},
   "outputs": [],
   "source": [
    "D0 = 2.475e3 # m^2/s\n",
    "D = D0*math.exp(-Ta/Tmed)\n",
    "print(D)"
   ]
  },
  {
   "cell_type": "code",
   "execution_count": null,
   "id": "f853962e",
   "metadata": {},
   "outputs": [],
   "source": [
    "math.sqrt(tau_q*D)"
   ]
  }
 ],
 "metadata": {
  "kernelspec": {
   "display_name": "env",
   "language": "python",
   "name": "python3"
  },
  "language_info": {
   "codemirror_mode": {
    "name": "ipython",
    "version": 3
   },
   "file_extension": ".py",
   "mimetype": "text/x-python",
   "name": "python",
   "nbconvert_exporter": "python",
   "pygments_lexer": "ipython3",
   "version": "3.10.12"
  }
 },
 "nbformat": 4,
 "nbformat_minor": 5
}
