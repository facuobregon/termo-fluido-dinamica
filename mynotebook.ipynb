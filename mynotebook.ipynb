{
 "cells": [
  {
   "cell_type": "code",
   "execution_count": null,
   "metadata": {},
   "outputs": [],
   "source": [
    "import pyturb\n",
    "import pyturb.utils.constants as cts\n",
    "from pyturb.gas_models.perfect_ideal_gas import PerfectIdealGas\n",
    "from pyturb.gas_models.perfect_ideal_gas import SemiperfectIdealGas\n",
    "from pyturb.gas_models.gas_mixture import GasMixture\n",
    "import numpy as np\n"
   ]
  },
  {
   "cell_type": "code",
   "execution_count": null,
   "metadata": {},
   "outputs": [],
   "source": [
    "\n",
    "air = PerfectIdealGas('Air')\n",
    "gas_mixture_p_air = GasMixture(gas_model='Perfect')\n",
    "\n",
    "gas_mixture_p_air.add_gas('O2', 0.209476)\n",
    "\n",
    "print(vars(air))\n",
    "print(air._gas_species)\n"
   ]
  }
 ],
 "metadata": {
  "kernelspec": {
   "display_name": "env",
   "language": "python",
   "name": "python3"
  },
  "language_info": {
   "codemirror_mode": {
    "name": "ipython",
    "version": 3
   },
   "file_extension": ".py",
   "mimetype": "text/x-python",
   "name": "python",
   "nbconvert_exporter": "python",
   "pygments_lexer": "ipython3",
   "version": "3.10.12"
  }
 },
 "nbformat": 4,
 "nbformat_minor": 2
}
