{
 "cells": [
  {
   "cell_type": "code",
   "execution_count": 1,
   "metadata": {
    "execution": {
     "iopub.execute_input": "2024-12-26T20:32:35.909281Z",
     "iopub.status.busy": "2024-12-26T20:32:35.907439Z",
     "iopub.status.idle": "2024-12-26T20:32:36.230850Z",
     "shell.execute_reply": "2024-12-26T20:32:36.230200Z"
    }
   },
   "outputs": [],
   "source": [
    "import pyturb\n",
    "import pyturb.utils.constants as cts\n",
    "from pyturb.gas_models.perfect_ideal_gas import PerfectIdealGas\n",
    "from pyturb.gas_models.perfect_ideal_gas import SemiperfectIdealGas\n",
    "from pyturb.gas_models.gas_mixture import GasMixture\n",
    "import numpy as np\n"
   ]
  },
  {
   "cell_type": "code",
   "execution_count": 2,
   "metadata": {
    "execution": {
     "iopub.execute_input": "2024-12-26T20:32:36.233201Z",
     "iopub.status.busy": "2024-12-26T20:32:36.232839Z",
     "iopub.status.idle": "2024-12-26T20:32:36.274617Z",
     "shell.execute_reply": "2024-12-26T20:32:36.273883Z"
    }
   },
   "outputs": [
    {
     "name": "stdout",
     "output_type": "stream",
     "text": [
      "{'_PerfectIdealGas__from_semiperfect_gas': <pyturb.gas_models.semiperfect_ideal_gas.SemiperfectIdealGas object at 0x79642973ac20>, 'thermo_prop': <pyturb.gas_models.thermo_properties.ThermoProperties object at 0x79642973ad70>, 'T_ref': 298.15, '_gas_species': 'Air'}\n",
      "Air\n"
     ]
    }
   ],
   "source": [
    "\n",
    "air = PerfectIdealGas('Air')\n",
    "gas_mixture_p_air = GasMixture(gas_model='Perfect')\n",
    "\n",
    "gas_mixture_p_air.add_gas('O2', 0.209476)\n",
    "\n",
    "print(vars(air))\n",
    "print(air._gas_species)\n"
   ]
  }
 ],
 "metadata": {
  "kernelspec": {
   "display_name": "env",
   "language": "python",
   "name": "python3"
  },
  "language_info": {
   "codemirror_mode": {
    "name": "ipython",
    "version": 3
   },
   "file_extension": ".py",
   "mimetype": "text/x-python",
   "name": "python",
   "nbconvert_exporter": "python",
   "pygments_lexer": "ipython3",
   "version": "3.10.12"
  }
 },
 "nbformat": 4,
 "nbformat_minor": 2
}
